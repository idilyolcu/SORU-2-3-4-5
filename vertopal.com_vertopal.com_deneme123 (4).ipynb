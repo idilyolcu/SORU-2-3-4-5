{
 "cells": [
  {
   "cell_type": "markdown",
   "id": "42a14256-91c8-446e-92a7-ab6bf11055d3",
   "metadata": {},
   "source": [
    "<table>\n",
    "<colgroup>\n",
    "<col style=\"width: 100%\" />\n",
    "</colgroup>\n",
    "<thead>\n",
    "<tr class=\"header\">\n",
    "<th><blockquote>\n",
    "<p>def factorial(n):<br />\n",
    "if n == 0:<br />\n",
    "return1<br />\n",
    "else:<br />\n",
    "return n * factorial(n-1)</p>\n",
    "<p>num = 5<br />\n",
    "print(\"Faktöriyel\", num, \":\", factorial(num))</p>\n",
    "<p>Faktöriyel 5 : 120</p>\n",
    "</blockquote></th>\n",
    "</tr>\n",
    "</thead>\n",
    "<tbody>\n",
    "</tbody>\n",
    "</table>"
   ]
  }
 ],
 "metadata": {
  "language_info": {
   "name": "python"
  }
 },
 "nbformat": 4,
 "nbformat_minor": 5
}
